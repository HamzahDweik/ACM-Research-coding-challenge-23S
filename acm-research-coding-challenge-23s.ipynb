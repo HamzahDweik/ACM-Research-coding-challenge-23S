{
 "cells": [
  {
   "cell_type": "code",
   "execution_count": 1,
   "id": "c70c4557",
   "metadata": {
    "execution": {
     "iopub.execute_input": "2023-02-01T05:40:28.944621Z",
     "iopub.status.busy": "2023-02-01T05:40:28.943988Z",
     "iopub.status.idle": "2023-02-01T05:40:30.577893Z",
     "shell.execute_reply": "2023-02-01T05:40:30.576584Z"
    },
    "papermill": {
     "duration": 1.646648,
     "end_time": "2023-02-01T05:40:30.581163",
     "exception": false,
     "start_time": "2023-02-01T05:40:28.934515",
     "status": "completed"
    },
    "tags": []
   },
   "outputs": [],
   "source": [
    "# importing dependencies\n",
    "import numpy as np\n",
    "import pandas as pd\n",
    "import seaborn as sns\n",
    "from sklearn.linear_model import LinearRegression\n",
    "from sklearn.model_selection import train_test_split\n",
    "from sklearn.ensemble import ExtraTreesClassifier\n",
    "from sklearn.preprocessing import LabelEncoder\n",
    "from sklearn.metrics import confusion_matrix, accuracy_score\n",
    "import matplotlib.pyplot as plt"
   ]
  },
  {
   "cell_type": "code",
   "execution_count": 2,
   "id": "8fd6afd7",
   "metadata": {
    "execution": {
     "iopub.execute_input": "2023-02-01T05:40:30.595468Z",
     "iopub.status.busy": "2023-02-01T05:40:30.595041Z",
     "iopub.status.idle": "2023-02-01T05:40:30.740685Z",
     "shell.execute_reply": "2023-02-01T05:40:30.739072Z"
    },
    "papermill": {
     "duration": 0.156225,
     "end_time": "2023-02-01T05:40:30.743816",
     "exception": false,
     "start_time": "2023-02-01T05:40:30.587591",
     "status": "completed"
    },
    "tags": []
   },
   "outputs": [],
   "source": [
    "# storing the dataset\n",
    "data = pd.read_csv('/kaggle/input/star-dataset/6 class csv.csv')"
   ]
  },
  {
   "cell_type": "markdown",
   "id": "b4ad3b71",
   "metadata": {
    "papermill": {
     "duration": 0.006588,
     "end_time": "2023-02-01T05:40:30.756775",
     "exception": false,
     "start_time": "2023-02-01T05:40:30.750187",
     "status": "completed"
    },
    "tags": []
   },
   "source": [
    "Let's begin by taking a look at the data and its formatting."
   ]
  },
  {
   "cell_type": "code",
   "execution_count": 3,
   "id": "9eba87af",
   "metadata": {
    "execution": {
     "iopub.execute_input": "2023-02-01T05:40:30.771736Z",
     "iopub.status.busy": "2023-02-01T05:40:30.771242Z",
     "iopub.status.idle": "2023-02-01T05:40:30.794653Z",
     "shell.execute_reply": "2023-02-01T05:40:30.793839Z"
    },
    "papermill": {
     "duration": 0.034783,
     "end_time": "2023-02-01T05:40:30.797769",
     "exception": false,
     "start_time": "2023-02-01T05:40:30.762986",
     "status": "completed"
    },
    "tags": []
   },
   "outputs": [
    {
     "data": {
      "text/html": [
       "<div>\n",
       "<style scoped>\n",
       "    .dataframe tbody tr th:only-of-type {\n",
       "        vertical-align: middle;\n",
       "    }\n",
       "\n",
       "    .dataframe tbody tr th {\n",
       "        vertical-align: top;\n",
       "    }\n",
       "\n",
       "    .dataframe thead th {\n",
       "        text-align: right;\n",
       "    }\n",
       "</style>\n",
       "<table border=\"1\" class=\"dataframe\">\n",
       "  <thead>\n",
       "    <tr style=\"text-align: right;\">\n",
       "      <th></th>\n",
       "      <th>Temperature (K)</th>\n",
       "      <th>Luminosity(L/Lo)</th>\n",
       "      <th>Radius(R/Ro)</th>\n",
       "      <th>Absolute magnitude(Mv)</th>\n",
       "      <th>Star type</th>\n",
       "      <th>Star color</th>\n",
       "      <th>Spectral Class</th>\n",
       "    </tr>\n",
       "  </thead>\n",
       "  <tbody>\n",
       "    <tr>\n",
       "      <th>0</th>\n",
       "      <td>3068</td>\n",
       "      <td>0.002400</td>\n",
       "      <td>0.1700</td>\n",
       "      <td>16.12</td>\n",
       "      <td>0</td>\n",
       "      <td>Red</td>\n",
       "      <td>M</td>\n",
       "    </tr>\n",
       "    <tr>\n",
       "      <th>1</th>\n",
       "      <td>3042</td>\n",
       "      <td>0.000500</td>\n",
       "      <td>0.1542</td>\n",
       "      <td>16.60</td>\n",
       "      <td>0</td>\n",
       "      <td>Red</td>\n",
       "      <td>M</td>\n",
       "    </tr>\n",
       "    <tr>\n",
       "      <th>2</th>\n",
       "      <td>2600</td>\n",
       "      <td>0.000300</td>\n",
       "      <td>0.1020</td>\n",
       "      <td>18.70</td>\n",
       "      <td>0</td>\n",
       "      <td>Red</td>\n",
       "      <td>M</td>\n",
       "    </tr>\n",
       "    <tr>\n",
       "      <th>3</th>\n",
       "      <td>2800</td>\n",
       "      <td>0.000200</td>\n",
       "      <td>0.1600</td>\n",
       "      <td>16.65</td>\n",
       "      <td>0</td>\n",
       "      <td>Red</td>\n",
       "      <td>M</td>\n",
       "    </tr>\n",
       "    <tr>\n",
       "      <th>4</th>\n",
       "      <td>1939</td>\n",
       "      <td>0.000138</td>\n",
       "      <td>0.1030</td>\n",
       "      <td>20.06</td>\n",
       "      <td>0</td>\n",
       "      <td>Red</td>\n",
       "      <td>M</td>\n",
       "    </tr>\n",
       "  </tbody>\n",
       "</table>\n",
       "</div>"
      ],
      "text/plain": [
       "   Temperature (K)  Luminosity(L/Lo)  Radius(R/Ro)  Absolute magnitude(Mv)  \\\n",
       "0             3068          0.002400        0.1700                   16.12   \n",
       "1             3042          0.000500        0.1542                   16.60   \n",
       "2             2600          0.000300        0.1020                   18.70   \n",
       "3             2800          0.000200        0.1600                   16.65   \n",
       "4             1939          0.000138        0.1030                   20.06   \n",
       "\n",
       "   Star type Star color Spectral Class  \n",
       "0          0        Red              M  \n",
       "1          0        Red              M  \n",
       "2          0        Red              M  \n",
       "3          0        Red              M  \n",
       "4          0        Red              M  "
      ]
     },
     "execution_count": 3,
     "metadata": {},
     "output_type": "execute_result"
    }
   ],
   "source": [
    "# previewing the dataset\n",
    "data.head()"
   ]
  },
  {
   "cell_type": "markdown",
   "id": "4af484d0",
   "metadata": {
    "papermill": {
     "duration": 0.006199,
     "end_time": "2023-02-01T05:40:30.810354",
     "exception": false,
     "start_time": "2023-02-01T05:40:30.804155",
     "status": "completed"
    },
    "tags": []
   },
   "source": [
    "From this table, we can immediately see that there are two categorical features: Star color, and spectral class. Before we can proceed any further, let's use labelencoder to transform these into numerical values."
   ]
  },
  {
   "cell_type": "code",
   "execution_count": 4,
   "id": "e00372a0",
   "metadata": {
    "execution": {
     "iopub.execute_input": "2023-02-01T05:40:30.826026Z",
     "iopub.status.busy": "2023-02-01T05:40:30.825016Z",
     "iopub.status.idle": "2023-02-01T05:40:30.834207Z",
     "shell.execute_reply": "2023-02-01T05:40:30.833260Z"
    },
    "papermill": {
     "duration": 0.019985,
     "end_time": "2023-02-01T05:40:30.836794",
     "exception": false,
     "start_time": "2023-02-01T05:40:30.816809",
     "status": "completed"
    },
    "tags": []
   },
   "outputs": [],
   "source": [
    "# encode categorical types\n",
    "for column in ['Star color', 'Spectral Class']:\n",
    "    data[column] = LabelEncoder().fit_transform(data[column])"
   ]
  },
  {
   "cell_type": "markdown",
   "id": "e45c434c",
   "metadata": {
    "papermill": {
     "duration": 0.005968,
     "end_time": "2023-02-01T05:40:30.849353",
     "exception": false,
     "start_time": "2023-02-01T05:40:30.843385",
     "status": "completed"
    },
    "tags": []
   },
   "source": [
    "Now we can confirm that the dataset is in accordance with your expectation."
   ]
  },
  {
   "cell_type": "code",
   "execution_count": 5,
   "id": "85b2a828",
   "metadata": {
    "execution": {
     "iopub.execute_input": "2023-02-01T05:40:30.864298Z",
     "iopub.status.busy": "2023-02-01T05:40:30.863248Z",
     "iopub.status.idle": "2023-02-01T05:40:30.879640Z",
     "shell.execute_reply": "2023-02-01T05:40:30.878461Z"
    },
    "papermill": {
     "duration": 0.026473,
     "end_time": "2023-02-01T05:40:30.882074",
     "exception": false,
     "start_time": "2023-02-01T05:40:30.855601",
     "status": "completed"
    },
    "tags": []
   },
   "outputs": [
    {
     "data": {
      "text/html": [
       "<div>\n",
       "<style scoped>\n",
       "    .dataframe tbody tr th:only-of-type {\n",
       "        vertical-align: middle;\n",
       "    }\n",
       "\n",
       "    .dataframe tbody tr th {\n",
       "        vertical-align: top;\n",
       "    }\n",
       "\n",
       "    .dataframe thead th {\n",
       "        text-align: right;\n",
       "    }\n",
       "</style>\n",
       "<table border=\"1\" class=\"dataframe\">\n",
       "  <thead>\n",
       "    <tr style=\"text-align: right;\">\n",
       "      <th></th>\n",
       "      <th>Temperature (K)</th>\n",
       "      <th>Luminosity(L/Lo)</th>\n",
       "      <th>Radius(R/Ro)</th>\n",
       "      <th>Absolute magnitude(Mv)</th>\n",
       "      <th>Star type</th>\n",
       "      <th>Star color</th>\n",
       "      <th>Spectral Class</th>\n",
       "    </tr>\n",
       "  </thead>\n",
       "  <tbody>\n",
       "    <tr>\n",
       "      <th>0</th>\n",
       "      <td>3068</td>\n",
       "      <td>0.002400</td>\n",
       "      <td>0.1700</td>\n",
       "      <td>16.12</td>\n",
       "      <td>0</td>\n",
       "      <td>10</td>\n",
       "      <td>5</td>\n",
       "    </tr>\n",
       "    <tr>\n",
       "      <th>1</th>\n",
       "      <td>3042</td>\n",
       "      <td>0.000500</td>\n",
       "      <td>0.1542</td>\n",
       "      <td>16.60</td>\n",
       "      <td>0</td>\n",
       "      <td>10</td>\n",
       "      <td>5</td>\n",
       "    </tr>\n",
       "    <tr>\n",
       "      <th>2</th>\n",
       "      <td>2600</td>\n",
       "      <td>0.000300</td>\n",
       "      <td>0.1020</td>\n",
       "      <td>18.70</td>\n",
       "      <td>0</td>\n",
       "      <td>10</td>\n",
       "      <td>5</td>\n",
       "    </tr>\n",
       "    <tr>\n",
       "      <th>3</th>\n",
       "      <td>2800</td>\n",
       "      <td>0.000200</td>\n",
       "      <td>0.1600</td>\n",
       "      <td>16.65</td>\n",
       "      <td>0</td>\n",
       "      <td>10</td>\n",
       "      <td>5</td>\n",
       "    </tr>\n",
       "    <tr>\n",
       "      <th>4</th>\n",
       "      <td>1939</td>\n",
       "      <td>0.000138</td>\n",
       "      <td>0.1030</td>\n",
       "      <td>20.06</td>\n",
       "      <td>0</td>\n",
       "      <td>10</td>\n",
       "      <td>5</td>\n",
       "    </tr>\n",
       "  </tbody>\n",
       "</table>\n",
       "</div>"
      ],
      "text/plain": [
       "   Temperature (K)  Luminosity(L/Lo)  Radius(R/Ro)  Absolute magnitude(Mv)  \\\n",
       "0             3068          0.002400        0.1700                   16.12   \n",
       "1             3042          0.000500        0.1542                   16.60   \n",
       "2             2600          0.000300        0.1020                   18.70   \n",
       "3             2800          0.000200        0.1600                   16.65   \n",
       "4             1939          0.000138        0.1030                   20.06   \n",
       "\n",
       "   Star type  Star color  Spectral Class  \n",
       "0          0          10               5  \n",
       "1          0          10               5  \n",
       "2          0          10               5  \n",
       "3          0          10               5  \n",
       "4          0          10               5  "
      ]
     },
     "execution_count": 5,
     "metadata": {},
     "output_type": "execute_result"
    }
   ],
   "source": [
    "# preview the revised dataset\n",
    "data.head()"
   ]
  },
  {
   "cell_type": "markdown",
   "id": "d16ce265",
   "metadata": {
    "papermill": {
     "duration": 0.006164,
     "end_time": "2023-02-01T05:40:30.894764",
     "exception": false,
     "start_time": "2023-02-01T05:40:30.888600",
     "status": "completed"
    },
    "tags": []
   },
   "source": [
    "I think it would also be interesting to see a satistical rundown of the data."
   ]
  },
  {
   "cell_type": "code",
   "execution_count": 6,
   "id": "d5ddeec2",
   "metadata": {
    "execution": {
     "iopub.execute_input": "2023-02-01T05:40:30.909594Z",
     "iopub.status.busy": "2023-02-01T05:40:30.909164Z",
     "iopub.status.idle": "2023-02-01T05:40:30.952342Z",
     "shell.execute_reply": "2023-02-01T05:40:30.951074Z"
    },
    "papermill": {
     "duration": 0.053889,
     "end_time": "2023-02-01T05:40:30.955149",
     "exception": false,
     "start_time": "2023-02-01T05:40:30.901260",
     "status": "completed"
    },
    "tags": []
   },
   "outputs": [
    {
     "data": {
      "text/html": [
       "<div>\n",
       "<style scoped>\n",
       "    .dataframe tbody tr th:only-of-type {\n",
       "        vertical-align: middle;\n",
       "    }\n",
       "\n",
       "    .dataframe tbody tr th {\n",
       "        vertical-align: top;\n",
       "    }\n",
       "\n",
       "    .dataframe thead th {\n",
       "        text-align: right;\n",
       "    }\n",
       "</style>\n",
       "<table border=\"1\" class=\"dataframe\">\n",
       "  <thead>\n",
       "    <tr style=\"text-align: right;\">\n",
       "      <th></th>\n",
       "      <th>Temperature (K)</th>\n",
       "      <th>Luminosity(L/Lo)</th>\n",
       "      <th>Radius(R/Ro)</th>\n",
       "      <th>Absolute magnitude(Mv)</th>\n",
       "      <th>Star type</th>\n",
       "      <th>Star color</th>\n",
       "      <th>Spectral Class</th>\n",
       "    </tr>\n",
       "  </thead>\n",
       "  <tbody>\n",
       "    <tr>\n",
       "      <th>count</th>\n",
       "      <td>240.000000</td>\n",
       "      <td>240.000000</td>\n",
       "      <td>240.000000</td>\n",
       "      <td>240.000000</td>\n",
       "      <td>240.000000</td>\n",
       "      <td>240.000000</td>\n",
       "      <td>240.000000</td>\n",
       "    </tr>\n",
       "    <tr>\n",
       "      <th>mean</th>\n",
       "      <td>10497.462500</td>\n",
       "      <td>107188.361635</td>\n",
       "      <td>237.157781</td>\n",
       "      <td>4.382396</td>\n",
       "      <td>2.500000</td>\n",
       "      <td>7.250000</td>\n",
       "      <td>3.758333</td>\n",
       "    </tr>\n",
       "    <tr>\n",
       "      <th>std</th>\n",
       "      <td>9552.425037</td>\n",
       "      <td>179432.244940</td>\n",
       "      <td>517.155763</td>\n",
       "      <td>10.532512</td>\n",
       "      <td>1.711394</td>\n",
       "      <td>4.926659</td>\n",
       "      <td>2.090007</td>\n",
       "    </tr>\n",
       "    <tr>\n",
       "      <th>min</th>\n",
       "      <td>1939.000000</td>\n",
       "      <td>0.000080</td>\n",
       "      <td>0.008400</td>\n",
       "      <td>-11.920000</td>\n",
       "      <td>0.000000</td>\n",
       "      <td>0.000000</td>\n",
       "      <td>0.000000</td>\n",
       "    </tr>\n",
       "    <tr>\n",
       "      <th>25%</th>\n",
       "      <td>3344.250000</td>\n",
       "      <td>0.000865</td>\n",
       "      <td>0.102750</td>\n",
       "      <td>-6.232500</td>\n",
       "      <td>1.000000</td>\n",
       "      <td>2.000000</td>\n",
       "      <td>1.000000</td>\n",
       "    </tr>\n",
       "    <tr>\n",
       "      <th>50%</th>\n",
       "      <td>5776.000000</td>\n",
       "      <td>0.070500</td>\n",
       "      <td>0.762500</td>\n",
       "      <td>8.313000</td>\n",
       "      <td>2.500000</td>\n",
       "      <td>10.000000</td>\n",
       "      <td>5.000000</td>\n",
       "    </tr>\n",
       "    <tr>\n",
       "      <th>75%</th>\n",
       "      <td>15055.500000</td>\n",
       "      <td>198050.000000</td>\n",
       "      <td>42.750000</td>\n",
       "      <td>13.697500</td>\n",
       "      <td>4.000000</td>\n",
       "      <td>10.000000</td>\n",
       "      <td>5.000000</td>\n",
       "    </tr>\n",
       "    <tr>\n",
       "      <th>max</th>\n",
       "      <td>40000.000000</td>\n",
       "      <td>849420.000000</td>\n",
       "      <td>1948.500000</td>\n",
       "      <td>20.060000</td>\n",
       "      <td>5.000000</td>\n",
       "      <td>18.000000</td>\n",
       "      <td>6.000000</td>\n",
       "    </tr>\n",
       "  </tbody>\n",
       "</table>\n",
       "</div>"
      ],
      "text/plain": [
       "       Temperature (K)  Luminosity(L/Lo)  Radius(R/Ro)  \\\n",
       "count       240.000000        240.000000    240.000000   \n",
       "mean      10497.462500     107188.361635    237.157781   \n",
       "std        9552.425037     179432.244940    517.155763   \n",
       "min        1939.000000          0.000080      0.008400   \n",
       "25%        3344.250000          0.000865      0.102750   \n",
       "50%        5776.000000          0.070500      0.762500   \n",
       "75%       15055.500000     198050.000000     42.750000   \n",
       "max       40000.000000     849420.000000   1948.500000   \n",
       "\n",
       "       Absolute magnitude(Mv)   Star type  Star color  Spectral Class  \n",
       "count              240.000000  240.000000  240.000000      240.000000  \n",
       "mean                 4.382396    2.500000    7.250000        3.758333  \n",
       "std                 10.532512    1.711394    4.926659        2.090007  \n",
       "min                -11.920000    0.000000    0.000000        0.000000  \n",
       "25%                 -6.232500    1.000000    2.000000        1.000000  \n",
       "50%                  8.313000    2.500000   10.000000        5.000000  \n",
       "75%                 13.697500    4.000000   10.000000        5.000000  \n",
       "max                 20.060000    5.000000   18.000000        6.000000  "
      ]
     },
     "execution_count": 6,
     "metadata": {},
     "output_type": "execute_result"
    }
   ],
   "source": [
    "# quick statistical rundown of the data\n",
    "data.describe()"
   ]
  },
  {
   "cell_type": "markdown",
   "id": "681c499f",
   "metadata": {
    "papermill": {
     "duration": 0.006448,
     "end_time": "2023-02-01T05:40:30.968459",
     "exception": false,
     "start_time": "2023-02-01T05:40:30.962011",
     "status": "completed"
    },
    "tags": []
   },
   "source": [
    "I would like to build a model that accurately predicts the temperature of a star based on its other features. Let's begin by analyzing the relationships between temperature and each of the other features in isolation."
   ]
  },
  {
   "cell_type": "code",
   "execution_count": 7,
   "id": "32027828",
   "metadata": {
    "execution": {
     "iopub.execute_input": "2023-02-01T05:40:30.984734Z",
     "iopub.status.busy": "2023-02-01T05:40:30.984305Z",
     "iopub.status.idle": "2023-02-01T05:40:31.363179Z",
     "shell.execute_reply": "2023-02-01T05:40:31.361923Z"
    },
    "papermill": {
     "duration": 0.389583,
     "end_time": "2023-02-01T05:40:31.365758",
     "exception": false,
     "start_time": "2023-02-01T05:40:30.976175",
     "status": "completed"
    },
    "tags": []
   },
   "outputs": [
    {
     "data": {
      "text/plain": [
       "<seaborn.axisgrid.FacetGrid at 0x7f15d978d750>"
      ]
     },
     "execution_count": 7,
     "metadata": {},
     "output_type": "execute_result"
    },
    {
     "data": {
      "image/png": "[encoded data removed]",
      "text/plain": [
       "<Figure size 360x360 with 1 Axes>"
      ]
     },
     "metadata": {
      "needs_background": "light"
     },
     "output_type": "display_data"
    }
   ],
   "source": [
    "# view the relationship between temperature and luminosity\n",
    "sns.relplot(x='Temperature (K)', y='Luminosity(L/Lo)', data=data)"
   ]
  },
  {
   "cell_type": "code",
   "execution_count": 8,
   "id": "f13ab40d",
   "metadata": {
    "execution": {
     "iopub.execute_input": "2023-02-01T05:40:31.383141Z",
     "iopub.status.busy": "2023-02-01T05:40:31.382722Z",
     "iopub.status.idle": "2023-02-01T05:40:31.719840Z",
     "shell.execute_reply": "2023-02-01T05:40:31.718490Z"
    },
    "papermill": {
     "duration": 0.349076,
     "end_time": "2023-02-01T05:40:31.722354",
     "exception": false,
     "start_time": "2023-02-01T05:40:31.373278",
     "status": "completed"
    },
    "tags": []
   },
   "outputs": [
    {
     "data": {
      "text/plain": [
       "<seaborn.axisgrid.FacetGrid at 0x7f15d8d6fa90>"
      ]
     },
     "execution_count": 8,
     "metadata": {},
     "output_type": "execute_result"
    },
    {
     "data": {
      "image/png": "[encoded data removed]",
      "text/plain": [
       "<Figure size 360x360 with 1 Axes>"
      ]
     },
     "metadata": {
      "needs_background": "light"
     },
     "output_type": "display_data"
    }
   ],
   "source": [
    "# view the relationship between temperature and radius\n",
    "sns.relplot(x='Temperature (K)', y='Radius(R/Ro)', data=data)"
   ]
  },
  {
   "cell_type": "code",
   "execution_count": 9,
   "id": "f7d1db16",
   "metadata": {
    "execution": {
     "iopub.execute_input": "2023-02-01T05:40:31.739620Z",
     "iopub.status.busy": "2023-02-01T05:40:31.739198Z",
     "iopub.status.idle": "2023-02-01T05:40:32.091610Z",
     "shell.execute_reply": "2023-02-01T05:40:32.090767Z"
    },
    "papermill": {
     "duration": 0.364027,
     "end_time": "2023-02-01T05:40:32.094219",
     "exception": false,
     "start_time": "2023-02-01T05:40:31.730192",
     "status": "completed"
    },
    "tags": []
   },
   "outputs": [
    {
     "data": {
      "text/plain": [
       "<seaborn.axisgrid.FacetGrid at 0x7f15d6576d50>"
      ]
     },
     "execution_count": 9,
     "metadata": {},
     "output_type": "execute_result"
    },
    {
     "data": {
      "image/png": "[encoded data removed]",
      "text/plain": [
       "<Figure size 360x360 with 1 Axes>"
      ]
     },
     "metadata": {
      "needs_background": "light"
     },
     "output_type": "display_data"
    }
   ],
   "source": [
    "# view the relationship between temperature and absolute magnitude\n",
    "sns.relplot(x='Temperature (K)', y='Absolute magnitude(Mv)', data=data)"
   ]
  },
  {
   "cell_type": "code",
   "execution_count": 10,
   "id": "6a78da8a",
   "metadata": {
    "execution": {
     "iopub.execute_input": "2023-02-01T05:40:32.114024Z",
     "iopub.status.busy": "2023-02-01T05:40:32.113230Z",
     "iopub.status.idle": "2023-02-01T05:40:32.427793Z",
     "shell.execute_reply": "2023-02-01T05:40:32.426583Z"
    },
    "papermill": {
     "duration": 0.327367,
     "end_time": "2023-02-01T05:40:32.430378",
     "exception": false,
     "start_time": "2023-02-01T05:40:32.103011",
     "status": "completed"
    },
    "tags": []
   },
   "outputs": [
    {
     "data": {
      "text/plain": [
       "<seaborn.axisgrid.FacetGrid at 0x7f15d63b07d0>"
      ]
     },
     "execution_count": 10,
     "metadata": {},
     "output_type": "execute_result"
    },
    {
     "data": {
      "image/png": "[encoded data removed]",
      "text/plain": [
       "<Figure size 360x360 with 1 Axes>"
      ]
     },
     "metadata": {
      "needs_background": "light"
     },
     "output_type": "display_data"
    }
   ],
   "source": [
    "# view the relationship between temperature and star type\n",
    "sns.relplot(x='Temperature (K)', y='Star type', data=data)"
   ]
  },
  {
   "cell_type": "code",
   "execution_count": 11,
   "id": "d9491e21",
   "metadata": {
    "execution": {
     "iopub.execute_input": "2023-02-01T05:40:32.450514Z",
     "iopub.status.busy": "2023-02-01T05:40:32.450098Z",
     "iopub.status.idle": "2023-02-01T05:40:32.777784Z",
     "shell.execute_reply": "2023-02-01T05:40:32.776604Z"
    },
    "papermill": {
     "duration": 0.340809,
     "end_time": "2023-02-01T05:40:32.780326",
     "exception": false,
     "start_time": "2023-02-01T05:40:32.439517",
     "status": "completed"
    },
    "tags": []
   },
   "outputs": [
    {
     "data": {
      "text/plain": [
       "<seaborn.axisgrid.FacetGrid at 0x7f15d65623d0>"
      ]
     },
     "execution_count": 11,
     "metadata": {},
     "output_type": "execute_result"
    },
    {
     "data": {
      "image/png": "[encoded data removed]",
      "text/plain": [
       "<Figure size 360x360 with 1 Axes>"
      ]
     },
     "metadata": {
      "needs_background": "light"
     },
     "output_type": "display_data"
    }
   ],
   "source": [
    "# view the relationship between temperature and star color\n",
    "sns.relplot(x='Temperature (K)', y='Star color', data=data)"
   ]
  },
  {
   "cell_type": "code",
   "execution_count": 12,
   "id": "966d4278",
   "metadata": {
    "execution": {
     "iopub.execute_input": "2023-02-01T05:40:32.800938Z",
     "iopub.status.busy": "2023-02-01T05:40:32.800504Z",
     "iopub.status.idle": "2023-02-01T05:40:33.030469Z",
     "shell.execute_reply": "2023-02-01T05:40:33.029114Z"
    },
    "papermill": {
     "duration": 0.243431,
     "end_time": "2023-02-01T05:40:33.033285",
     "exception": false,
     "start_time": "2023-02-01T05:40:32.789854",
     "status": "completed"
    },
    "tags": []
   },
   "outputs": [
    {
     "data": {
      "text/plain": [
       "<seaborn.axisgrid.FacetGrid at 0x7f15d63d41d0>"
      ]
     },
     "execution_count": 12,
     "metadata": {},
     "output_type": "execute_result"
    },
    {
     "data": {
      "image/png": "[encoded data removed]",
      "text/plain": [
       "<Figure size 360x360 with 1 Axes>"
      ]
     },
     "metadata": {
      "needs_background": "light"
     },
     "output_type": "display_data"
    }
   ],
   "source": [
    "# view the relationship between temperature and spectral class\n",
    "sns.relplot(x='Temperature (K)', y='Spectral Class', data=data)"
   ]
  },
  {
   "cell_type": "markdown",
   "id": "75a7d31c",
   "metadata": {
    "papermill": {
     "duration": 0.009705,
     "end_time": "2023-02-01T05:40:33.052680",
     "exception": false,
     "start_time": "2023-02-01T05:40:33.042975",
     "status": "completed"
    },
    "tags": []
   },
   "source": [
    "Now that we've seen the individual relationships of each of the features with temperature, let's try to identify the features that are the most important in predicting the temperature."
   ]
  },
  {
   "cell_type": "code",
   "execution_count": 13,
   "id": "d7d0b894",
   "metadata": {
    "execution": {
     "iopub.execute_input": "2023-02-01T05:40:33.074716Z",
     "iopub.status.busy": "2023-02-01T05:40:33.073375Z",
     "iopub.status.idle": "2023-02-01T05:40:33.079669Z",
     "shell.execute_reply": "2023-02-01T05:40:33.078825Z"
    },
    "papermill": {
     "duration": 0.019392,
     "end_time": "2023-02-01T05:40:33.082095",
     "exception": false,
     "start_time": "2023-02-01T05:40:33.062703",
     "status": "completed"
    },
    "tags": []
   },
   "outputs": [],
   "source": [
    "# split the data into training and target data\n",
    "train = data.drop('Temperature (K)', axis=1)\n",
    "test = data['Temperature (K)']"
   ]
  },
  {
   "cell_type": "code",
   "execution_count": 14,
   "id": "f9131ab6",
   "metadata": {
    "execution": {
     "iopub.execute_input": "2023-02-01T05:40:33.104451Z",
     "iopub.status.busy": "2023-02-01T05:40:33.103516Z",
     "iopub.status.idle": "2023-02-01T05:40:33.109937Z",
     "shell.execute_reply": "2023-02-01T05:40:33.108942Z"
    },
    "papermill": {
     "duration": 0.020345,
     "end_time": "2023-02-01T05:40:33.112443",
     "exception": false,
     "start_time": "2023-02-01T05:40:33.092098",
     "status": "completed"
    },
    "tags": []
   },
   "outputs": [],
   "source": [
    "# further split the data into training dataset and testing dataset\n",
    "X_train, X_test, y_train, y_test = train_test_split(train, test, test_size=0.2)"
   ]
  },
  {
   "cell_type": "code",
   "execution_count": 15,
   "id": "d614093b",
   "metadata": {
    "execution": {
     "iopub.execute_input": "2023-02-01T05:40:33.134711Z",
     "iopub.status.busy": "2023-02-01T05:40:33.133409Z",
     "iopub.status.idle": "2023-02-01T05:40:33.540260Z",
     "shell.execute_reply": "2023-02-01T05:40:33.538617Z"
    },
    "papermill": {
     "duration": 0.42252,
     "end_time": "2023-02-01T05:40:33.544479",
     "exception": false,
     "start_time": "2023-02-01T05:40:33.121959",
     "status": "completed"
    },
    "tags": []
   },
   "outputs": [
    {
     "name": "stdout",
     "output_type": "stream",
     "text": [
      "[0.29209964 0.28530463 0.30006916 0.0260613  0.05275188 0.04371338]\n"
     ]
    },
    {
     "data": {
      "image/png": "[encoded data removed]",
      "text/plain": [
       "<Figure size 432x288 with 1 Axes>"
      ]
     },
     "metadata": {
      "needs_background": "light"
     },
     "output_type": "display_data"
    }
   ],
   "source": [
    "# measure feature importance for training data\n",
    "model = ExtraTreesClassifier()\n",
    "model.fit(X_train,y_train)\n",
    "print(model.feature_importances_) \n",
    "feat_importances = pd.Series(model.feature_importances_, index=train.columns)\n",
    "feat_importances.nlargest(10).plot(kind='barh')\n",
    "plt.show()"
   ]
  },
  {
   "cell_type": "markdown",
   "id": "eb2620e3",
   "metadata": {
    "papermill": {
     "duration": 0.009951,
     "end_time": "2023-02-01T05:40:33.567077",
     "exception": false,
     "start_time": "2023-02-01T05:40:33.557126",
     "status": "completed"
    },
    "tags": []
   },
   "source": [
    "From this we can see that the radius, absolute magnitude, and luminosity are the features that are most important in identifying the temperature of a star. Rather interesting to see actually..."
   ]
  },
  {
   "cell_type": "code",
   "execution_count": 16,
   "id": "6b731bec",
   "metadata": {
    "execution": {
     "iopub.execute_input": "2023-02-01T05:40:33.589083Z",
     "iopub.status.busy": "2023-02-01T05:40:33.588015Z",
     "iopub.status.idle": "2023-02-01T05:40:33.613508Z",
     "shell.execute_reply": "2023-02-01T05:40:33.612159Z"
    },
    "papermill": {
     "duration": 0.039378,
     "end_time": "2023-02-01T05:40:33.616196",
     "exception": false,
     "start_time": "2023-02-01T05:40:33.576818",
     "status": "completed"
    },
    "tags": []
   },
   "outputs": [
    {
     "data": {
      "text/plain": [
       "LinearRegression()"
      ]
     },
     "execution_count": 16,
     "metadata": {},
     "output_type": "execute_result"
    }
   ],
   "source": [
    "# build a predictive model using linear regression\n",
    "lr = LinearRegression()\n",
    "lr.fit(X_train, y_train)"
   ]
  },
  {
   "cell_type": "code",
   "execution_count": 17,
   "id": "74d63db4",
   "metadata": {
    "execution": {
     "iopub.execute_input": "2023-02-01T05:40:33.637850Z",
     "iopub.status.busy": "2023-02-01T05:40:33.637237Z",
     "iopub.status.idle": "2023-02-01T05:40:33.648163Z",
     "shell.execute_reply": "2023-02-01T05:40:33.647028Z"
    },
    "papermill": {
     "duration": 0.024413,
     "end_time": "2023-02-01T05:40:33.650496",
     "exception": false,
     "start_time": "2023-02-01T05:40:33.626083",
     "status": "completed"
    },
    "tags": []
   },
   "outputs": [
    {
     "data": {
      "text/plain": [
       "0.6139927283254873"
      ]
     },
     "execution_count": 17,
     "metadata": {},
     "output_type": "execute_result"
    }
   ],
   "source": [
    "# check the accuracy of our predictive model\n",
    "lr.score(X_test,y_test)"
   ]
  },
  {
   "cell_type": "markdown",
   "id": "1fa29edb",
   "metadata": {
    "papermill": {
     "duration": 0.009328,
     "end_time": "2023-02-01T05:40:33.669759",
     "exception": false,
     "start_time": "2023-02-01T05:40:33.660431",
     "status": "completed"
    },
    "tags": []
   },
   "source": [
    "Our linear regression model was able to predict the temperature with an accuracy of roughly 70%. Considering this was my first time building a predictive model, I will take this as a win. I will continue to try to improve the accuracy of the model."
   ]
  },
  {
   "cell_type": "code",
   "execution_count": null,
   "id": "06c5535a",
   "metadata": {
    "papermill": {
     "duration": 0.009387,
     "end_time": "2023-02-01T05:40:33.689215",
     "exception": false,
     "start_time": "2023-02-01T05:40:33.679828",
     "status": "completed"
    },
    "tags": []
   },
   "outputs": [],
   "source": []
  }
 ],
 "metadata": {
  "kernelspec": {
   "display_name": "Python 3",
   "language": "python",
   "name": "python3"
  },
  "language_info": {
   "codemirror_mode": {
    "name": "ipython",
    "version": 3
   },
   "file_extension": ".py",
   "mimetype": "text/x-python",
   "name": "python",
   "nbconvert_exporter": "python",
   "pygments_lexer": "ipython3",
   "version": "3.7.12"
  },
  "papermill": {
   "default_parameters": {},
   "duration": 14.637179,
   "end_time": "2023-02-01T05:40:34.522252",
   "environment_variables": {},
   "exception": null,
   "input_path": "__notebook__.ipynb",
   "output_path": "__notebook__.ipynb",
   "parameters": {},
   "start_time": "2023-02-01T05:40:19.885073",
   "version": "2.3.4"
  }
 },
 "nbformat": 4,
 "nbformat_minor": 5
}
