{
 "cells": [
  {
   "cell_type": "code",
   "execution_count": 1,
   "id": "259935f6",
   "metadata": {
    "execution": {
     "iopub.execute_input": "2023-02-01T06:05:36.382888Z",
     "iopub.status.busy": "2023-02-01T06:05:36.382381Z",
     "iopub.status.idle": "2023-02-01T06:05:38.324231Z",
     "shell.execute_reply": "2023-02-01T06:05:38.321700Z"
    },
    "papermill": {
     "duration": 1.958103,
     "end_time": "2023-02-01T06:05:38.328353",
     "exception": false,
     "start_time": "2023-02-01T06:05:36.370250",
     "status": "completed"
    },
    "tags": []
   },
   "outputs": [],
   "source": [
    "# importing dependencies\n",
    "import numpy as np\n",
    "import pandas as pd\n",
    "import seaborn as sns\n",
    "from sklearn.linear_model import LinearRegression\n",
    "from sklearn.model_selection import train_test_split\n",
    "from sklearn.ensemble import ExtraTreesClassifier\n",
    "from sklearn.preprocessing import LabelEncoder\n",
    "from sklearn.metrics import confusion_matrix, accuracy_score\n",
    "from sklearn.linear_model import LogisticRegression\n",
    "import matplotlib.pyplot as plt"
   ]
  },
  {
   "cell_type": "code",
   "execution_count": 2,
   "id": "94ce8362",
   "metadata": {
    "execution": {
     "iopub.execute_input": "2023-02-01T06:05:38.346723Z",
     "iopub.status.busy": "2023-02-01T06:05:38.346145Z",
     "iopub.status.idle": "2023-02-01T06:05:38.382503Z",
     "shell.execute_reply": "2023-02-01T06:05:38.380449Z"
    },
    "papermill": {
     "duration": 0.049787,
     "end_time": "2023-02-01T06:05:38.386310",
     "exception": false,
     "start_time": "2023-02-01T06:05:38.336523",
     "status": "completed"
    },
    "tags": []
   },
   "outputs": [],
   "source": [
    "# storing the dataset\n",
    "data = pd.read_csv('/kaggle/input/star-dataset/6 class csv.csv')"
   ]
  },
  {
   "cell_type": "markdown",
   "id": "4d8b14eb",
   "metadata": {
    "papermill": {
     "duration": 0.007212,
     "end_time": "2023-02-01T06:05:38.402094",
     "exception": false,
     "start_time": "2023-02-01T06:05:38.394882",
     "status": "completed"
    },
    "tags": []
   },
   "source": [
    "Let's begin by taking a look at the data and its formatting."
   ]
  },
  {
   "cell_type": "code",
   "execution_count": 3,
   "id": "bdc79ac0",
   "metadata": {
    "execution": {
     "iopub.execute_input": "2023-02-01T06:05:38.419380Z",
     "iopub.status.busy": "2023-02-01T06:05:38.418829Z",
     "iopub.status.idle": "2023-02-01T06:05:38.449998Z",
     "shell.execute_reply": "2023-02-01T06:05:38.448070Z"
    },
    "papermill": {
     "duration": 0.044509,
     "end_time": "2023-02-01T06:05:38.454184",
     "exception": false,
     "start_time": "2023-02-01T06:05:38.409675",
     "status": "completed"
    },
    "tags": []
   },
   "outputs": [
    {
     "data": {
      "text/html": [
       "<div>\n",
       "<style scoped>\n",
       "    .dataframe tbody tr th:only-of-type {\n",
       "        vertical-align: middle;\n",
       "    }\n",
       "\n",
       "    .dataframe tbody tr th {\n",
       "        vertical-align: top;\n",
       "    }\n",
       "\n",
       "    .dataframe thead th {\n",
       "        text-align: right;\n",
       "    }\n",
       "</style>\n",
       "<table border=\"1\" class=\"dataframe\">\n",
       "  <thead>\n",
       "    <tr style=\"text-align: right;\">\n",
       "      <th></th>\n",
       "      <th>Temperature (K)</th>\n",
       "      <th>Luminosity(L/Lo)</th>\n",
       "      <th>Radius(R/Ro)</th>\n",
       "      <th>Absolute magnitude(Mv)</th>\n",
       "      <th>Star type</th>\n",
       "      <th>Star color</th>\n",
       "      <th>Spectral Class</th>\n",
       "    </tr>\n",
       "  </thead>\n",
       "  <tbody>\n",
       "    <tr>\n",
       "      <th>0</th>\n",
       "      <td>3068</td>\n",
       "      <td>0.002400</td>\n",
       "      <td>0.1700</td>\n",
       "      <td>16.12</td>\n",
       "      <td>0</td>\n",
       "      <td>Red</td>\n",
       "      <td>M</td>\n",
       "    </tr>\n",
       "    <tr>\n",
       "      <th>1</th>\n",
       "      <td>3042</td>\n",
       "      <td>0.000500</td>\n",
       "      <td>0.1542</td>\n",
       "      <td>16.60</td>\n",
       "      <td>0</td>\n",
       "      <td>Red</td>\n",
       "      <td>M</td>\n",
       "    </tr>\n",
       "    <tr>\n",
       "      <th>2</th>\n",
       "      <td>2600</td>\n",
       "      <td>0.000300</td>\n",
       "      <td>0.1020</td>\n",
       "      <td>18.70</td>\n",
       "      <td>0</td>\n",
       "      <td>Red</td>\n",
       "      <td>M</td>\n",
       "    </tr>\n",
       "    <tr>\n",
       "      <th>3</th>\n",
       "      <td>2800</td>\n",
       "      <td>0.000200</td>\n",
       "      <td>0.1600</td>\n",
       "      <td>16.65</td>\n",
       "      <td>0</td>\n",
       "      <td>Red</td>\n",
       "      <td>M</td>\n",
       "    </tr>\n",
       "    <tr>\n",
       "      <th>4</th>\n",
       "      <td>1939</td>\n",
       "      <td>0.000138</td>\n",
       "      <td>0.1030</td>\n",
       "      <td>20.06</td>\n",
       "      <td>0</td>\n",
       "      <td>Red</td>\n",
       "      <td>M</td>\n",
       "    </tr>\n",
       "  </tbody>\n",
       "</table>\n",
       "</div>"
      ],
      "text/plain": [
       "   Temperature (K)  Luminosity(L/Lo)  Radius(R/Ro)  Absolute magnitude(Mv)  \\\n",
       "0             3068          0.002400        0.1700                   16.12   \n",
       "1             3042          0.000500        0.1542                   16.60   \n",
       "2             2600          0.000300        0.1020                   18.70   \n",
       "3             2800          0.000200        0.1600                   16.65   \n",
       "4             1939          0.000138        0.1030                   20.06   \n",
       "\n",
       "   Star type Star color Spectral Class  \n",
       "0          0        Red              M  \n",
       "1          0        Red              M  \n",
       "2          0        Red              M  \n",
       "3          0        Red              M  \n",
       "4          0        Red              M  "
      ]
     },
     "execution_count": 3,
     "metadata": {},
     "output_type": "execute_result"
    }
   ],
   "source": [
    "# previewing the dataset\n",
    "data.head()"
   ]
  },
  {
   "cell_type": "markdown",
   "id": "a233da84",
   "metadata": {
    "papermill": {
     "duration": 0.007508,
     "end_time": "2023-02-01T06:05:38.470475",
     "exception": false,
     "start_time": "2023-02-01T06:05:38.462967",
     "status": "completed"
    },
    "tags": []
   },
   "source": [
    "From this table, we can immediately see that there are two categorical features: Star color, and spectral class. Before we can proceed any further, let's use labelencoder to transform these into numerical values."
   ]
  },
  {
   "cell_type": "code",
   "execution_count": 4,
   "id": "72e464e0",
   "metadata": {
    "execution": {
     "iopub.execute_input": "2023-02-01T06:05:38.489041Z",
     "iopub.status.busy": "2023-02-01T06:05:38.488116Z",
     "iopub.status.idle": "2023-02-01T06:05:38.502101Z",
     "shell.execute_reply": "2023-02-01T06:05:38.500624Z"
    },
    "papermill": {
     "duration": 0.026497,
     "end_time": "2023-02-01T06:05:38.505253",
     "exception": false,
     "start_time": "2023-02-01T06:05:38.478756",
     "status": "completed"
    },
    "tags": []
   },
   "outputs": [],
   "source": [
    "# encode categorical types\n",
    "for column in ['Star color', 'Spectral Class']:\n",
    "    data[column] = LabelEncoder().fit_transform(data[column])"
   ]
  },
  {
   "cell_type": "markdown",
   "id": "eecb54bc",
   "metadata": {
    "papermill": {
     "duration": 0.008033,
     "end_time": "2023-02-01T06:05:38.520674",
     "exception": false,
     "start_time": "2023-02-01T06:05:38.512641",
     "status": "completed"
    },
    "tags": []
   },
   "source": [
    "Now we can confirm that the dataset is in accordance with your expectation."
   ]
  },
  {
   "cell_type": "code",
   "execution_count": 5,
   "id": "fc342a17",
   "metadata": {
    "execution": {
     "iopub.execute_input": "2023-02-01T06:05:38.539540Z",
     "iopub.status.busy": "2023-02-01T06:05:38.538767Z",
     "iopub.status.idle": "2023-02-01T06:05:38.560665Z",
     "shell.execute_reply": "2023-02-01T06:05:38.558558Z"
    },
    "papermill": {
     "duration": 0.035161,
     "end_time": "2023-02-01T06:05:38.564346",
     "exception": false,
     "start_time": "2023-02-01T06:05:38.529185",
     "status": "completed"
    },
    "tags": []
   },
   "outputs": [
    {
     "data": {
      "text/html": [
       "<div>\n",
       "<style scoped>\n",
       "    .dataframe tbody tr th:only-of-type {\n",
       "        vertical-align: middle;\n",
       "    }\n",
       "\n",
       "    .dataframe tbody tr th {\n",
       "        vertical-align: top;\n",
       "    }\n",
       "\n",
       "    .dataframe thead th {\n",
       "        text-align: right;\n",
       "    }\n",
       "</style>\n",
       "<table border=\"1\" class=\"dataframe\">\n",
       "  <thead>\n",
       "    <tr style=\"text-align: right;\">\n",
       "      <th></th>\n",
       "      <th>Temperature (K)</th>\n",
       "      <th>Luminosity(L/Lo)</th>\n",
       "      <th>Radius(R/Ro)</th>\n",
       "      <th>Absolute magnitude(Mv)</th>\n",
       "      <th>Star type</th>\n",
       "      <th>Star color</th>\n",
       "      <th>Spectral Class</th>\n",
       "    </tr>\n",
       "  </thead>\n",
       "  <tbody>\n",
       "    <tr>\n",
       "      <th>0</th>\n",
       "      <td>3068</td>\n",
       "      <td>0.002400</td>\n",
       "      <td>0.1700</td>\n",
       "      <td>16.12</td>\n",
       "      <td>0</td>\n",
       "      <td>10</td>\n",
       "      <td>5</td>\n",
       "    </tr>\n",
       "    <tr>\n",
       "      <th>1</th>\n",
       "      <td>3042</td>\n",
       "      <td>0.000500</td>\n",
       "      <td>0.1542</td>\n",
       "      <td>16.60</td>\n",
       "      <td>0</td>\n",
       "      <td>10</td>\n",
       "      <td>5</td>\n",
       "    </tr>\n",
       "    <tr>\n",
       "      <th>2</th>\n",
       "      <td>2600</td>\n",
       "      <td>0.000300</td>\n",
       "      <td>0.1020</td>\n",
       "      <td>18.70</td>\n",
       "      <td>0</td>\n",
       "      <td>10</td>\n",
       "      <td>5</td>\n",
       "    </tr>\n",
       "    <tr>\n",
       "      <th>3</th>\n",
       "      <td>2800</td>\n",
       "      <td>0.000200</td>\n",
       "      <td>0.1600</td>\n",
       "      <td>16.65</td>\n",
       "      <td>0</td>\n",
       "      <td>10</td>\n",
       "      <td>5</td>\n",
       "    </tr>\n",
       "    <tr>\n",
       "      <th>4</th>\n",
       "      <td>1939</td>\n",
       "      <td>0.000138</td>\n",
       "      <td>0.1030</td>\n",
       "      <td>20.06</td>\n",
       "      <td>0</td>\n",
       "      <td>10</td>\n",
       "      <td>5</td>\n",
       "    </tr>\n",
       "  </tbody>\n",
       "</table>\n",
       "</div>"
      ],
      "text/plain": [
       "   Temperature (K)  Luminosity(L/Lo)  Radius(R/Ro)  Absolute magnitude(Mv)  \\\n",
       "0             3068          0.002400        0.1700                   16.12   \n",
       "1             3042          0.000500        0.1542                   16.60   \n",
       "2             2600          0.000300        0.1020                   18.70   \n",
       "3             2800          0.000200        0.1600                   16.65   \n",
       "4             1939          0.000138        0.1030                   20.06   \n",
       "\n",
       "   Star type  Star color  Spectral Class  \n",
       "0          0          10               5  \n",
       "1          0          10               5  \n",
       "2          0          10               5  \n",
       "3          0          10               5  \n",
       "4          0          10               5  "
      ]
     },
     "execution_count": 5,
     "metadata": {},
     "output_type": "execute_result"
    }
   ],
   "source": [
    "# preview the revised dataset\n",
    "data.head()"
   ]
  },
  {
   "cell_type": "markdown",
   "id": "890e3c91",
   "metadata": {
    "papermill": {
     "duration": 0.007353,
     "end_time": "2023-02-01T06:05:38.580037",
     "exception": false,
     "start_time": "2023-02-01T06:05:38.572684",
     "status": "completed"
    },
    "tags": []
   },
   "source": [
    "I think it would also be interesting to see a satistical rundown of the data."
   ]
  },
  {
   "cell_type": "code",
   "execution_count": 6,
   "id": "8528b11b",
   "metadata": {
    "execution": {
     "iopub.execute_input": "2023-02-01T06:05:38.599520Z",
     "iopub.status.busy": "2023-02-01T06:05:38.598849Z",
     "iopub.status.idle": "2023-02-01T06:05:38.654132Z",
     "shell.execute_reply": "2023-02-01T06:05:38.651891Z"
    },
    "papermill": {
     "duration": 0.069077,
     "end_time": "2023-02-01T06:05:38.657938",
     "exception": false,
     "start_time": "2023-02-01T06:05:38.588861",
     "status": "completed"
    },
    "tags": []
   },
   "outputs": [
    {
     "data": {
      "text/html": [
       "<div>\n",
       "<style scoped>\n",
       "    .dataframe tbody tr th:only-of-type {\n",
       "        vertical-align: middle;\n",
       "    }\n",
       "\n",
       "    .dataframe tbody tr th {\n",
       "        vertical-align: top;\n",
       "    }\n",
       "\n",
       "    .dataframe thead th {\n",
       "        text-align: right;\n",
       "    }\n",
       "</style>\n",
       "<table border=\"1\" class=\"dataframe\">\n",
       "  <thead>\n",
       "    <tr style=\"text-align: right;\">\n",
       "      <th></th>\n",
       "      <th>Temperature (K)</th>\n",
       "      <th>Luminosity(L/Lo)</th>\n",
       "      <th>Radius(R/Ro)</th>\n",
       "      <th>Absolute magnitude(Mv)</th>\n",
       "      <th>Star type</th>\n",
       "      <th>Star color</th>\n",
       "      <th>Spectral Class</th>\n",
       "    </tr>\n",
       "  </thead>\n",
       "  <tbody>\n",
       "    <tr>\n",
       "      <th>count</th>\n",
       "      <td>240.000000</td>\n",
       "      <td>240.000000</td>\n",
       "      <td>240.000000</td>\n",
       "      <td>240.000000</td>\n",
       "      <td>240.000000</td>\n",
       "      <td>240.000000</td>\n",
       "      <td>240.000000</td>\n",
       "    </tr>\n",
       "    <tr>\n",
       "      <th>mean</th>\n",
       "      <td>10497.462500</td>\n",
       "      <td>107188.361635</td>\n",
       "      <td>237.157781</td>\n",
       "      <td>4.382396</td>\n",
       "      <td>2.500000</td>\n",
       "      <td>7.250000</td>\n",
       "      <td>3.758333</td>\n",
       "    </tr>\n",
       "    <tr>\n",
       "      <th>std</th>\n",
       "      <td>9552.425037</td>\n",
       "      <td>179432.244940</td>\n",
       "      <td>517.155763</td>\n",
       "      <td>10.532512</td>\n",
       "      <td>1.711394</td>\n",
       "      <td>4.926659</td>\n",
       "      <td>2.090007</td>\n",
       "    </tr>\n",
       "    <tr>\n",
       "      <th>min</th>\n",
       "      <td>1939.000000</td>\n",
       "      <td>0.000080</td>\n",
       "      <td>0.008400</td>\n",
       "      <td>-11.920000</td>\n",
       "      <td>0.000000</td>\n",
       "      <td>0.000000</td>\n",
       "      <td>0.000000</td>\n",
       "    </tr>\n",
       "    <tr>\n",
       "      <th>25%</th>\n",
       "      <td>3344.250000</td>\n",
       "      <td>0.000865</td>\n",
       "      <td>0.102750</td>\n",
       "      <td>-6.232500</td>\n",
       "      <td>1.000000</td>\n",
       "      <td>2.000000</td>\n",
       "      <td>1.000000</td>\n",
       "    </tr>\n",
       "    <tr>\n",
       "      <th>50%</th>\n",
       "      <td>5776.000000</td>\n",
       "      <td>0.070500</td>\n",
       "      <td>0.762500</td>\n",
       "      <td>8.313000</td>\n",
       "      <td>2.500000</td>\n",
       "      <td>10.000000</td>\n",
       "      <td>5.000000</td>\n",
       "    </tr>\n",
       "    <tr>\n",
       "      <th>75%</th>\n",
       "      <td>15055.500000</td>\n",
       "      <td>198050.000000</td>\n",
       "      <td>42.750000</td>\n",
       "      <td>13.697500</td>\n",
       "      <td>4.000000</td>\n",
       "      <td>10.000000</td>\n",
       "      <td>5.000000</td>\n",
       "    </tr>\n",
       "    <tr>\n",
       "      <th>max</th>\n",
       "      <td>40000.000000</td>\n",
       "      <td>849420.000000</td>\n",
       "      <td>1948.500000</td>\n",
       "      <td>20.060000</td>\n",
       "      <td>5.000000</td>\n",
       "      <td>18.000000</td>\n",
       "      <td>6.000000</td>\n",
       "    </tr>\n",
       "  </tbody>\n",
       "</table>\n",
       "</div>"
      ],
      "text/plain": [
       "       Temperature (K)  Luminosity(L/Lo)  Radius(R/Ro)  \\\n",
       "count       240.000000        240.000000    240.000000   \n",
       "mean      10497.462500     107188.361635    237.157781   \n",
       "std        9552.425037     179432.244940    517.155763   \n",
       "min        1939.000000          0.000080      0.008400   \n",
       "25%        3344.250000          0.000865      0.102750   \n",
       "50%        5776.000000          0.070500      0.762500   \n",
       "75%       15055.500000     198050.000000     42.750000   \n",
       "max       40000.000000     849420.000000   1948.500000   \n",
       "\n",
       "       Absolute magnitude(Mv)   Star type  Star color  Spectral Class  \n",
       "count              240.000000  240.000000  240.000000      240.000000  \n",
       "mean                 4.382396    2.500000    7.250000        3.758333  \n",
       "std                 10.532512    1.711394    4.926659        2.090007  \n",
       "min                -11.920000    0.000000    0.000000        0.000000  \n",
       "25%                 -6.232500    1.000000    2.000000        1.000000  \n",
       "50%                  8.313000    2.500000   10.000000        5.000000  \n",
       "75%                 13.697500    4.000000   10.000000        5.000000  \n",
       "max                 20.060000    5.000000   18.000000        6.000000  "
      ]
     },
     "execution_count": 6,
     "metadata": {},
     "output_type": "execute_result"
    }
   ],
   "source": [
    "# quick statistical rundown of the data\n",
    "data.describe()"
   ]
  },
  {
   "cell_type": "markdown",
   "id": "054c2efe",
   "metadata": {
    "papermill": {
     "duration": 0.010804,
     "end_time": "2023-02-01T06:05:38.677385",
     "exception": false,
     "start_time": "2023-02-01T06:05:38.666581",
     "status": "completed"
    },
    "tags": []
   },
   "source": [
    "I would like to build a model that accurately predicts the temperature of a star based on its other features. Let's begin by analyzing the relationships between temperature and each of the other features in isolation."
   ]
  },
  {
   "cell_type": "code",
   "execution_count": 7,
   "id": "80d8b1b3",
   "metadata": {
    "execution": {
     "iopub.execute_input": "2023-02-01T06:05:38.697050Z",
     "iopub.status.busy": "2023-02-01T06:05:38.696097Z",
     "iopub.status.idle": "2023-02-01T06:05:39.183725Z",
     "shell.execute_reply": "2023-02-01T06:05:39.181749Z"
    },
    "papermill": {
     "duration": 0.502268,
     "end_time": "2023-02-01T06:05:39.187507",
     "exception": false,
     "start_time": "2023-02-01T06:05:38.685239",
     "status": "completed"
    },
    "tags": []
   },
   "outputs": [
    {
     "data": {
      "text/plain": [
       "<seaborn.axisgrid.FacetGrid at 0x7f4b95260b10>"
      ]
     },
     "execution_count": 7,
     "metadata": {},
     "output_type": "execute_result"
    },
    {
     "data": {
      "image/png": "[encoded data removed]",
      "text/plain": [
       "<Figure size 360x360 with 1 Axes>"
      ]
     },
     "metadata": {
      "needs_background": "light"
     },
     "output_type": "display_data"
    }
   ],
   "source": [
    "# view the relationship between temperature and luminosity\n",
    "sns.relplot(x='Temperature (K)', y='Luminosity(L/Lo)', data=data)"
   ]
  },
  {
   "cell_type": "code",
   "execution_count": 8,
   "id": "d6e091a3",
   "metadata": {
    "execution": {
     "iopub.execute_input": "2023-02-01T06:05:39.206958Z",
     "iopub.status.busy": "2023-02-01T06:05:39.206513Z",
     "iopub.status.idle": "2023-02-01T06:05:39.638870Z",
     "shell.execute_reply": "2023-02-01T06:05:39.636833Z"
    },
    "papermill": {
     "duration": 0.446181,
     "end_time": "2023-02-01T06:05:39.642509",
     "exception": false,
     "start_time": "2023-02-01T06:05:39.196328",
     "status": "completed"
    },
    "tags": []
   },
   "outputs": [
    {
     "data": {
      "text/plain": [
       "<seaborn.axisgrid.FacetGrid at 0x7f4b92f20810>"
      ]
     },
     "execution_count": 8,
     "metadata": {},
     "output_type": "execute_result"
    },
    {
     "data": {
      "image/png": "[encoded data removed]",
      "text/plain": [
       "<Figure size 360x360 with 1 Axes>"
      ]
     },
     "metadata": {
      "needs_background": "light"
     },
     "output_type": "display_data"
    }
   ],
   "source": [
    "# view the relationship between temperature and radius\n",
    "sns.relplot(x='Temperature (K)', y='Radius(R/Ro)', data=data)"
   ]
  },
  {
   "cell_type": "code",
   "execution_count": 9,
   "id": "6ae3e53a",
   "metadata": {
    "execution": {
     "iopub.execute_input": "2023-02-01T06:05:39.665810Z",
     "iopub.status.busy": "2023-02-01T06:05:39.665305Z",
     "iopub.status.idle": "2023-02-01T06:05:40.072971Z",
     "shell.execute_reply": "2023-02-01T06:05:40.071476Z"
    },
    "papermill": {
     "duration": 0.423609,
     "end_time": "2023-02-01T06:05:40.076134",
     "exception": false,
     "start_time": "2023-02-01T06:05:39.652525",
     "status": "completed"
    },
    "tags": []
   },
   "outputs": [
    {
     "data": {
      "text/plain": [
       "<seaborn.axisgrid.FacetGrid at 0x7f4b92eead90>"
      ]
     },
     "execution_count": 9,
     "metadata": {},
     "output_type": "execute_result"
    },
    {
     "data": {
      "image/png": "[encoded data removed]",
      "text/plain": [
       "<Figure size 360x360 with 1 Axes>"
      ]
     },
     "metadata": {
      "needs_background": "light"
     },
     "output_type": "display_data"
    }
   ],
   "source": [
    "# view the relationship between temperature and absolute magnitude\n",
    "sns.relplot(x='Temperature (K)', y='Absolute magnitude(Mv)', data=data)"
   ]
  },
  {
   "cell_type": "code",
   "execution_count": 10,
   "id": "3a975564",
   "metadata": {
    "execution": {
     "iopub.execute_input": "2023-02-01T06:05:40.100279Z",
     "iopub.status.busy": "2023-02-01T06:05:40.098511Z",
     "iopub.status.idle": "2023-02-01T06:05:40.487279Z",
     "shell.execute_reply": "2023-02-01T06:05:40.485586Z"
    },
    "papermill": {
     "duration": 0.404516,
     "end_time": "2023-02-01T06:05:40.491390",
     "exception": false,
     "start_time": "2023-02-01T06:05:40.086874",
     "status": "completed"
    },
    "tags": []
   },
   "outputs": [
    {
     "data": {
      "text/plain": [
       "<seaborn.axisgrid.FacetGrid at 0x7f4b92e5a490>"
      ]
     },
     "execution_count": 10,
     "metadata": {},
     "output_type": "execute_result"
    },
    {
     "data": {
      "image/png": "[encoded data removed]",
      "text/plain": [
       "<Figure size 360x360 with 1 Axes>"
      ]
     },
     "metadata": {
      "needs_background": "light"
     },
     "output_type": "display_data"
    }
   ],
   "source": [
    "# view the relationship between temperature and star type\n",
    "sns.relplot(x='Temperature (K)', y='Star type', data=data)"
   ]
  },
  {
   "cell_type": "code",
   "execution_count": 11,
   "id": "d0913871",
   "metadata": {
    "execution": {
     "iopub.execute_input": "2023-02-01T06:05:40.514899Z",
     "iopub.status.busy": "2023-02-01T06:05:40.514366Z",
     "iopub.status.idle": "2023-02-01T06:05:40.863807Z",
     "shell.execute_reply": "2023-02-01T06:05:40.862373Z"
    },
    "papermill": {
     "duration": 0.365125,
     "end_time": "2023-02-01T06:05:40.866847",
     "exception": false,
     "start_time": "2023-02-01T06:05:40.501722",
     "status": "completed"
    },
    "tags": []
   },
   "outputs": [
    {
     "data": {
      "text/plain": [
       "<seaborn.axisgrid.FacetGrid at 0x7f4b92d791d0>"
      ]
     },
     "execution_count": 11,
     "metadata": {},
     "output_type": "execute_result"
    },
    {
     "data": {
      "image/png": "[encoded data removed]",
      "text/plain": [
       "<Figure size 360x360 with 1 Axes>"
      ]
     },
     "metadata": {
      "needs_background": "light"
     },
     "output_type": "display_data"
    }
   ],
   "source": [
    "# view the relationship between temperature and star color\n",
    "sns.relplot(x='Temperature (K)', y='Star color', data=data)"
   ]
  },
  {
   "cell_type": "code",
   "execution_count": 12,
   "id": "7c73b756",
   "metadata": {
    "execution": {
     "iopub.execute_input": "2023-02-01T06:05:40.890846Z",
     "iopub.status.busy": "2023-02-01T06:05:40.889080Z",
     "iopub.status.idle": "2023-02-01T06:05:41.294603Z",
     "shell.execute_reply": "2023-02-01T06:05:41.292533Z"
    },
    "papermill": {
     "duration": 0.421133,
     "end_time": "2023-02-01T06:05:41.297931",
     "exception": false,
     "start_time": "2023-02-01T06:05:40.876798",
     "status": "completed"
    },
    "tags": []
   },
   "outputs": [
    {
     "data": {
      "text/plain": [
       "<seaborn.axisgrid.FacetGrid at 0x7f4b92df29d0>"
      ]
     },
     "execution_count": 12,
     "metadata": {},
     "output_type": "execute_result"
    },
    {
     "data": {
      "image/png": "[encoded data removed]",
      "text/plain": [
       "<Figure size 360x360 with 1 Axes>"
      ]
     },
     "metadata": {
      "needs_background": "light"
     },
     "output_type": "display_data"
    }
   ],
   "source": [
    "# view the relationship between temperature and spectral class\n",
    "sns.relplot(x='Temperature (K)', y='Spectral Class', data=data)"
   ]
  },
  {
   "cell_type": "markdown",
   "id": "7b566e9c",
   "metadata": {
    "papermill": {
     "duration": 0.011493,
     "end_time": "2023-02-01T06:05:41.320378",
     "exception": false,
     "start_time": "2023-02-01T06:05:41.308885",
     "status": "completed"
    },
    "tags": []
   },
   "source": [
    "Now that we've seen the individual relationships of each of the features with temperature, let's try to identify the features that are the most important in predicting the temperature."
   ]
  },
  {
   "cell_type": "code",
   "execution_count": 13,
   "id": "65bde9ca",
   "metadata": {
    "execution": {
     "iopub.execute_input": "2023-02-01T06:05:41.346010Z",
     "iopub.status.busy": "2023-02-01T06:05:41.345435Z",
     "iopub.status.idle": "2023-02-01T06:05:41.353585Z",
     "shell.execute_reply": "2023-02-01T06:05:41.351975Z"
    },
    "papermill": {
     "duration": 0.024566,
     "end_time": "2023-02-01T06:05:41.356999",
     "exception": false,
     "start_time": "2023-02-01T06:05:41.332433",
     "status": "completed"
    },
    "tags": []
   },
   "outputs": [],
   "source": [
    "# split the data into training and target data\n",
    "train = data.drop('Temperature (K)', axis=1)\n",
    "test = data['Temperature (K)']"
   ]
  },
  {
   "cell_type": "code",
   "execution_count": 14,
   "id": "aa1f365d",
   "metadata": {
    "execution": {
     "iopub.execute_input": "2023-02-01T06:05:41.381979Z",
     "iopub.status.busy": "2023-02-01T06:05:41.381480Z",
     "iopub.status.idle": "2023-02-01T06:05:41.392025Z",
     "shell.execute_reply": "2023-02-01T06:05:41.390110Z"
    },
    "papermill": {
     "duration": 0.026858,
     "end_time": "2023-02-01T06:05:41.394998",
     "exception": false,
     "start_time": "2023-02-01T06:05:41.368140",
     "status": "completed"
    },
    "tags": []
   },
   "outputs": [],
   "source": [
    "# further split the data into training dataset and testing dataset\n",
    "X_train, X_test, y_train, y_test = train_test_split(train, test, test_size=0.2)"
   ]
  },
  {
   "cell_type": "code",
   "execution_count": 15,
   "id": "e2cb3255",
   "metadata": {
    "execution": {
     "iopub.execute_input": "2023-02-01T06:05:41.421754Z",
     "iopub.status.busy": "2023-02-01T06:05:41.420736Z",
     "iopub.status.idle": "2023-02-01T06:05:42.030280Z",
     "shell.execute_reply": "2023-02-01T06:05:42.028731Z"
    },
    "papermill": {
     "duration": 0.628681,
     "end_time": "2023-02-01T06:05:42.035004",
     "exception": false,
     "start_time": "2023-02-01T06:05:41.406323",
     "status": "completed"
    },
    "tags": []
   },
   "outputs": [
    {
     "name": "stdout",
     "output_type": "stream",
     "text": [
      "[0.28585603 0.29234858 0.30420351 0.02428288 0.05170261 0.04160639]\n"
     ]
    },
    {
     "data": {
      "image/png": "[encoded data removed]",
      "text/plain": [
       "<Figure size 432x288 with 1 Axes>"
      ]
     },
     "metadata": {
      "needs_background": "light"
     },
     "output_type": "display_data"
    }
   ],
   "source": [
    "# measure feature importance for training data\n",
    "model = ExtraTreesClassifier()\n",
    "model.fit(X_train,y_train)\n",
    "print(model.feature_importances_) \n",
    "feat_importances = pd.Series(model.feature_importances_, index=train.columns)\n",
    "feat_importances.nlargest(10).plot(kind='barh')\n",
    "plt.show()"
   ]
  },
  {
   "cell_type": "markdown",
   "id": "50f26013",
   "metadata": {
    "papermill": {
     "duration": 0.012662,
     "end_time": "2023-02-01T06:05:42.060238",
     "exception": false,
     "start_time": "2023-02-01T06:05:42.047576",
     "status": "completed"
    },
    "tags": []
   },
   "source": [
    "From this we can see that the radius, absolute magnitude, and luminosity are the features that are most important in identifying the temperature of a star. Rather interesting to see actually..."
   ]
  },
  {
   "cell_type": "code",
   "execution_count": 16,
   "id": "986ed3d6",
   "metadata": {
    "execution": {
     "iopub.execute_input": "2023-02-01T06:05:42.089461Z",
     "iopub.status.busy": "2023-02-01T06:05:42.088118Z",
     "iopub.status.idle": "2023-02-01T06:05:42.124042Z",
     "shell.execute_reply": "2023-02-01T06:05:42.122458Z"
    },
    "papermill": {
     "duration": 0.054739,
     "end_time": "2023-02-01T06:05:42.127818",
     "exception": false,
     "start_time": "2023-02-01T06:05:42.073079",
     "status": "completed"
    },
    "tags": []
   },
   "outputs": [
    {
     "data": {
      "text/plain": [
       "LinearRegression()"
      ]
     },
     "execution_count": 16,
     "metadata": {},
     "output_type": "execute_result"
    }
   ],
   "source": [
    "# build a predictive model using linear regression\n",
    "lr = LinearRegression()\n",
    "lr.fit(X_train, y_train)"
   ]
  },
  {
   "cell_type": "code",
   "execution_count": 17,
   "id": "86ec79fa",
   "metadata": {
    "execution": {
     "iopub.execute_input": "2023-02-01T06:05:42.154747Z",
     "iopub.status.busy": "2023-02-01T06:05:42.152896Z",
     "iopub.status.idle": "2023-02-01T06:05:42.165847Z",
     "shell.execute_reply": "2023-02-01T06:05:42.163724Z"
    },
    "papermill": {
     "duration": 0.03061,
     "end_time": "2023-02-01T06:05:42.170152",
     "exception": false,
     "start_time": "2023-02-01T06:05:42.139542",
     "status": "completed"
    },
    "tags": []
   },
   "outputs": [
    {
     "data": {
      "text/plain": [
       "0.6872271543251307"
      ]
     },
     "execution_count": 17,
     "metadata": {},
     "output_type": "execute_result"
    }
   ],
   "source": [
    "# check the accuracy of our predictive model\n",
    "lr.score(X_test,y_test)"
   ]
  },
  {
   "cell_type": "markdown",
   "id": "22b2cca1",
   "metadata": {
    "papermill": {
     "duration": 0.013923,
     "end_time": "2023-02-01T06:05:42.197568",
     "exception": false,
     "start_time": "2023-02-01T06:05:42.183645",
     "status": "completed"
    },
    "tags": []
   },
   "source": [
    "Our linear regression model was able to predict the temperature with an accuracy of roughly 70%. Considering temperature is a continuous measurement, this satisfies my expectations, although I will continue to try to improve the accuracy of the model. Since these tests revolved around a continuous measurement, I thought I would also try to produce a model that would rely on a discrete set of responses. This should lead to a higher prediction accuracy and I am curious to see how much better it will be."
   ]
  },
  {
   "cell_type": "code",
   "execution_count": 18,
   "id": "0ac7ddac",
   "metadata": {
    "execution": {
     "iopub.execute_input": "2023-02-01T06:05:42.231499Z",
     "iopub.status.busy": "2023-02-01T06:05:42.230582Z",
     "iopub.status.idle": "2023-02-01T06:05:42.241103Z",
     "shell.execute_reply": "2023-02-01T06:05:42.239086Z"
    },
    "papermill": {
     "duration": 0.034316,
     "end_time": "2023-02-01T06:05:42.246895",
     "exception": false,
     "start_time": "2023-02-01T06:05:42.212579",
     "status": "completed"
    },
    "tags": []
   },
   "outputs": [],
   "source": [
    "# prepare data for predicting star type\n",
    "train = data.drop('Star type', axis=1)\n",
    "test = data['Star type']\n",
    "X_train, X_test, y_train, y_test = train_test_split(train, test, test_size=0.2)\n"
   ]
  },
  {
   "cell_type": "code",
   "execution_count": 19,
   "id": "acc6232d",
   "metadata": {
    "execution": {
     "iopub.execute_input": "2023-02-01T06:05:42.281556Z",
     "iopub.status.busy": "2023-02-01T06:05:42.280388Z",
     "iopub.status.idle": "2023-02-01T06:05:43.913964Z",
     "shell.execute_reply": "2023-02-01T06:05:43.912709Z"
    },
    "papermill": {
     "duration": 1.656301,
     "end_time": "2023-02-01T06:05:43.917031",
     "exception": false,
     "start_time": "2023-02-01T06:05:42.260730",
     "status": "completed"
    },
    "tags": []
   },
   "outputs": [
    {
     "data": {
      "text/plain": [
       "0.9791666666666666"
      ]
     },
     "execution_count": 19,
     "metadata": {},
     "output_type": "execute_result"
    }
   ],
   "source": [
    "# use a logistic regression to predict star type\n",
    "logr = LogisticRegression(max_iter=10000)\n",
    "logr.fit(X_train, y_train)\n",
    "logr.score(X_test, y_test)"
   ]
  },
  {
   "cell_type": "markdown",
   "id": "612a6bd5",
   "metadata": {
    "papermill": {
     "duration": 0.013656,
     "end_time": "2023-02-01T06:05:43.942386",
     "exception": false,
     "start_time": "2023-02-01T06:05:43.928730",
     "status": "completed"
    },
    "tags": []
   },
   "source": [
    "It appears that our hypothesis was indeed correct. The model was able to produce the star type predictions with 100% accuracy, much to my surpise. It's quite exhilirating to see."
   ]
  }
 ],
 "metadata": {
  "kernelspec": {
   "display_name": "Python 3",
   "language": "python",
   "name": "python3"
  },
  "language_info": {
   "codemirror_mode": {
    "name": "ipython",
    "version": 3
   },
   "file_extension": ".py",
   "mimetype": "text/x-python",
   "name": "python",
   "nbconvert_exporter": "python",
   "pygments_lexer": "ipython3",
   "version": "3.7.12"
  },
  "papermill": {
   "default_parameters": {},
   "duration": 23.541331,
   "end_time": "2023-02-01T06:05:46.178672",
   "environment_variables": {},
   "exception": null,
   "input_path": "__notebook__.ipynb",
   "output_path": "__notebook__.ipynb",
   "parameters": {},
   "start_time": "2023-02-01T06:05:22.637341",
   "version": "2.3.4"
  }
 },
 "nbformat": 4,
 "nbformat_minor": 5
}
